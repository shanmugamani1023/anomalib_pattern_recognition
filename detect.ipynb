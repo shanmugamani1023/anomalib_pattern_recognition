{
 "cells": [
  {
   "cell_type": "code",
   "execution_count": 1,
   "metadata": {},
   "outputs": [],
   "source": [
    "from typing import Any\n",
    "from torchvision import transforms\n",
    "from PIL import Image\n",
    "import numpy as np\n",
    "from matplotlib import pyplot as plt\n",
    "from PIL import Image\n",
    "from torchvision.transforms import ToPILImage\n",
    "import cv2\n",
    "from anomalib import TaskType\n",
    "from anomalib.data import MVTec\n",
    "from anomalib.data.utils import read_image\n",
    "from anomalib.deploy import ExportType, OpenVINOInferencer\n",
    "from anomalib.engine import Engine\n",
    "from anomalib.models import Padim\n",
    "import os\n",
    "from pathlib import Path"
   ]
  },
  {
   "cell_type": "code",
   "execution_count": 7,
   "metadata": {},
   "outputs": [
    {
     "name": "stdout",
     "output_type": "stream",
     "text": [
      "D:/Shravtek/neutech_airfillter/anamolib/Models/bottle/epoch_3_works_good\n"
     ]
    }
   ],
   "source": [
    "output_path = \"D:/Shravtek/neutech_airfillter/anamolib/Models/bottle/epoch_3_works_good\"\n",
    "\n",
    "print(output_path)\n",
    "openvino_model_path = output_path+\"/weights\"+\"/openvino\"+\"/model.bin\"\n",
    "metadata = output_path+\"/weights\"+\"/openvino\"+\"/metadata.json\"\n",
    "# print(openvino_model_path.exists(), metadata.exists())\n",
    "inferencer = OpenVINOInferencer(\n",
    "    path=openvino_model_path,  # Path to the OpenVINO IR model.\n",
    "    metadata=metadata,  # Path to the metadata file.\n",
    "    device=\"CPU\",  # We would like to run it on an Intel CPU.\n",
    ")"
   ]
  },
  {
   "cell_type": "code",
   "execution_count": 24,
   "metadata": {},
   "outputs": [
    {
     "name": "stdout",
     "output_type": "stream",
     "text": [
      "0.8393554398389323 ABNORMAL\n",
      "<class 'str'>\n",
      "ABNORMAL\n"
     ]
    }
   ],
   "source": [
    "image_path = \"D:/Shravtek/neutech_airfillter/anamolib/anomalib/datasets/bottle/bad/020.png\"\n",
    "image = read_image(path=image_path)\n",
    "predictions = inferencer.predict(image=image_path)\n",
    "print(predictions.pred_score, predictions.pred_label)\n",
    "\n",
    "print(type(predictions.pred_label))\n",
    "if predictions.pred_label==\"ABNORMAL\":\n",
    "    print(\"ABNORMAL\")\n",
    "    cv2.putText(image,str(\"NOK\"), (100, 100), cv2.FONT_HERSHEY_SIMPLEX,2,(0, 0, 255), 3)\n",
    "else:\n",
    "    print(\"NORMAL\")\n",
    "    cv2.putText(image,str(\"OK\"), (100, 100), cv2.FONT_HERSHEY_SIMPLEX, 2,(0, 255, 0), 3)\n",
    "\n",
    "cv2.imshow(\"image\",cv2.resize(image,(640,640)))\n",
    "# cv2.imshow(\"predictions.pred_mask\",cv2.resize(predictions.pred_mask,(640,640)))\n",
    "cv2.imshow(\"Anomolies\",cv2.resize(predictions.segmentations,(640,640)))\n",
    "\n",
    "cv2.waitKey(0)\n",
    "cv2.destroyAllWindows()"
   ]
  }
 ],
 "metadata": {
  "kernelspec": {
   "display_name": "anamo",
   "language": "python",
   "name": "python3"
  },
  "language_info": {
   "codemirror_mode": {
    "name": "ipython",
    "version": 3
   },
   "file_extension": ".py",
   "mimetype": "text/x-python",
   "name": "python",
   "nbconvert_exporter": "python",
   "pygments_lexer": "ipython3",
   "version": "3.10.14"
  }
 },
 "nbformat": 4,
 "nbformat_minor": 2
}
