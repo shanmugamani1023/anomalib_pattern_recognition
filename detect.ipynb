{
 "cells": [
  {
   "cell_type": "code",
   "execution_count": 1,
   "metadata": {},
   "outputs": [],
   "source": [
    "from typing import Any\n",
    "from torchvision import transforms\n",
    "from PIL import Image\n",
    "import numpy as np\n",
    "from matplotlib import pyplot as plt\n",
    "from PIL import Image\n",
    "from torchvision.transforms import ToPILImage\n",
    "import cv2\n",
    "from anomalib import TaskType\n",
    "from anomalib.data import MVTec\n",
    "from anomalib.data.utils import read_image\n",
    "from anomalib.deploy import ExportType, OpenVINOInferencer\n",
    "from anomalib.engine import Engine\n",
    "from anomalib.models import Padim\n",
    "import os\n",
    "from pathlib import Path"
   ]
  },
  {
   "cell_type": "code",
   "execution_count": 2,
   "metadata": {},
   "outputs": [
    {
     "name": "stdout",
     "output_type": "stream",
     "text": [
      "D:/Shravtek/neutech_airfillter/anamolib/Models/bottle/epoch_3_works_good\n"
     ]
    }
   ],
   "source": [
    "output_path = \"D:/Shravtek/neutech_airfillter/anamolib/Models/bottle/epoch_3_works_good\"\n",
    "\n",
    "print(output_path)\n",
    "openvino_model_path = output_path+\"/weights\"+\"/openvino\"+\"/model.bin\"\n",
    "metadata = output_path+\"/weights\"+\"/openvino\"+\"/metadata.json\"\n",
    "# print(openvino_model_path.exists(), metadata.exists())\n",
    "inferencer = OpenVINOInferencer(\n",
    "    path=openvino_model_path,  # Path to the OpenVINO IR model.\n",
    "    metadata=metadata,  # Path to the metadata file.\n",
    "    device=\"CPU\",  # We would like to run it on an Intel CPU.\n",
    ")"
   ]
  },
  {
   "cell_type": "code",
   "execution_count": 7,
   "metadata": {},
   "outputs": [
    {
     "name": "stdout",
     "output_type": "stream",
     "text": [
      "0.7648072810710542 ABNORMAL\n",
      "<class 'str'>\n",
      "ABNORMAL\n"
     ]
    }
   ],
   "source": [
    "image_path = \"D:/Shravtek/neutech_airfillter/anamolib/anomalib/datasets/bottle/bad/011.png\"\n",
    "#good/008.png\n",
    "#good/009.png\n",
    "#bad/020.png\n",
    "#bad/011.png\n",
    "image = read_image(path=image_path)\n",
    "predictions = inferencer.predict(image=image_path)\n",
    "print(predictions.pred_score, predictions.pred_label)\n",
    "\n",
    "print(type(predictions.pred_label))\n",
    "if predictions.pred_label==\"ABNORMAL\":\n",
    "    print(\"ABNORMAL\")\n",
    "    cv2.putText(image,str(\"NOK\"), (100, 100), cv2.FONT_HERSHEY_SIMPLEX,2,(0, 0, 255), 3)\n",
    "else:\n",
    "    print(\"NORMAL\")\n",
    "    cv2.putText(image,str(\"OK\"), (100, 100), cv2.FONT_HERSHEY_SIMPLEX, 2,(0, 255, 0), 3)\n",
    "\n",
    "cv2.imshow(\"image\",cv2.resize(image,(640,640)))\n",
    "# cv2.imshow(\"predictions.pred_mask\",cv2.resize(predictions.pred_mask,(640,640)))\n",
    "cv2.imshow(\"Anomolies\",cv2.resize(predictions.segmentations,(640,640)))\n",
    "\n",
    "cv2.waitKey(0)\n",
    "cv2.destroyAllWindows()"
   ]
  },
  {
   "cell_type": "code",
   "execution_count": 3,
   "metadata": {},
   "outputs": [],
   "source": [
    "import os\n",
    "import cv2\n",
    "import csv\n",
    "\n",
    "# Function to perform inference on an image\n",
    "def perform_inference(image_path, inferencer):\n",
    "    image = cv2.imread(image_path)\n",
    "    predictions = inferencer.predict(image=image_path)\n",
    "    if predictions.pred_label == \"ABNORMAL\":\n",
    "        result = -1\n",
    "    else:\n",
    "        result = 1\n",
    "    return result"
   ]
  },
  {
   "cell_type": "code",
   "execution_count": 9,
   "metadata": {},
   "outputs": [
    {
     "name": "stdout",
     "output_type": "stream",
     "text": [
      "Results saved to: results.csv\n"
     ]
    }
   ],
   "source": [
    "\n",
    "\n",
    "# Path to the folder containing images\n",
    "folder_path = \"D:/Shravtek/neutech_airfillter/anamolib/anomalib/datasets/bottle/test/contamination\"\n",
    "\n",
    "# Initialize the list to store results\n",
    "results = []\n",
    "\n",
    "# Iterate over each image in the folder\n",
    "for filename in os.listdir(folder_path):\n",
    "    if filename.endswith(\".png\"):\n",
    "        image_path = os.path.join(folder_path, filename)\n",
    "        result = perform_inference(image_path, inferencer)\n",
    "        results.append((filename, result))\n",
    "\n",
    "# Path to save the CSV file\n",
    "csv_file_path = \"results.csv\"\n",
    "\n",
    "# Write results to CSV file\n",
    "with open(csv_file_path, mode='a', newline='') as file:\n",
    "    writer = csv.writer(file)\n",
    "    writer.writerow(['Image', 'Result'])\n",
    "    for result in results:\n",
    "        writer.writerow(result)\n",
    "\n",
    "print(\"Results saved to:\", csv_file_path)\n"
   ]
  },
  {
   "cell_type": "code",
   "execution_count": null,
   "metadata": {},
   "outputs": [],
   "source": []
  },
  {
   "cell_type": "code",
   "execution_count": null,
   "metadata": {},
   "outputs": [],
   "source": []
  },
  {
   "cell_type": "code",
   "execution_count": null,
   "metadata": {},
   "outputs": [],
   "source": []
  },
  {
   "cell_type": "code",
   "execution_count": null,
   "metadata": {},
   "outputs": [],
   "source": []
  },
  {
   "cell_type": "code",
   "execution_count": null,
   "metadata": {},
   "outputs": [],
   "source": []
  },
  {
   "cell_type": "code",
   "execution_count": null,
   "metadata": {},
   "outputs": [],
   "source": []
  },
  {
   "cell_type": "code",
   "execution_count": null,
   "metadata": {},
   "outputs": [],
   "source": []
  },
  {
   "cell_type": "code",
   "execution_count": null,
   "metadata": {},
   "outputs": [],
   "source": []
  },
  {
   "cell_type": "code",
   "execution_count": null,
   "metadata": {},
   "outputs": [],
   "source": []
  },
  {
   "cell_type": "code",
   "execution_count": null,
   "metadata": {},
   "outputs": [],
   "source": []
  },
  {
   "cell_type": "code",
   "execution_count": null,
   "metadata": {},
   "outputs": [],
   "source": []
  },
  {
   "cell_type": "code",
   "execution_count": null,
   "metadata": {},
   "outputs": [],
   "source": []
  },
  {
   "cell_type": "code",
   "execution_count": null,
   "metadata": {},
   "outputs": [],
   "source": []
  },
  {
   "cell_type": "code",
   "execution_count": null,
   "metadata": {},
   "outputs": [],
   "source": []
  },
  {
   "cell_type": "code",
   "execution_count": null,
   "metadata": {},
   "outputs": [],
   "source": []
  },
  {
   "cell_type": "code",
   "execution_count": null,
   "metadata": {},
   "outputs": [],
   "source": []
  },
  {
   "cell_type": "code",
   "execution_count": null,
   "metadata": {},
   "outputs": [],
   "source": []
  },
  {
   "cell_type": "code",
   "execution_count": null,
   "metadata": {},
   "outputs": [],
   "source": []
  },
  {
   "cell_type": "code",
   "execution_count": null,
   "metadata": {},
   "outputs": [],
   "source": []
  },
  {
   "cell_type": "code",
   "execution_count": null,
   "metadata": {},
   "outputs": [],
   "source": []
  },
  {
   "cell_type": "code",
   "execution_count": null,
   "metadata": {},
   "outputs": [],
   "source": []
  },
  {
   "cell_type": "code",
   "execution_count": null,
   "metadata": {},
   "outputs": [],
   "source": []
  }
 ],
 "metadata": {
  "kernelspec": {
   "display_name": "anamo",
   "language": "python",
   "name": "python3"
  },
  "language_info": {
   "codemirror_mode": {
    "name": "ipython",
    "version": 3
   },
   "file_extension": ".py",
   "mimetype": "text/x-python",
   "name": "python",
   "nbconvert_exporter": "python",
   "pygments_lexer": "ipython3",
   "version": "3.10.14"
  }
 },
 "nbformat": 4,
 "nbformat_minor": 2
}
